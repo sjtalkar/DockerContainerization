{
 "cells": [
  {
   "cell_type": "code",
   "execution_count": 21,
   "id": "d21751b4",
   "metadata": {
    "ExecuteTime": {
     "end_time": "2022-01-31T04:31:40.714801Z",
     "start_time": "2022-01-31T04:31:40.695518Z"
    }
   },
   "outputs": [],
   "source": [
    "import pandas as pd\n",
    "import pandas_profiling\n",
    "\n",
    "from sklearn.model_selection import train_test_split\n",
    "from sklearn.ensemble import RandomForestClassifier\n",
    "\n",
    "\n",
    "import pickle"
   ]
  },
  {
   "cell_type": "code",
   "execution_count": 22,
   "id": "ae4343e3",
   "metadata": {
    "ExecuteTime": {
     "end_time": "2022-01-31T04:31:41.180828Z",
     "start_time": "2022-01-31T04:31:41.174016Z"
    }
   },
   "outputs": [],
   "source": [
    "from pandas_profiling import ProfileReport"
   ]
  },
  {
   "cell_type": "code",
   "execution_count": 23,
   "id": "f96b9564",
   "metadata": {
    "ExecuteTime": {
     "end_time": "2022-01-31T04:31:42.852043Z",
     "start_time": "2022-01-31T04:31:41.510777Z"
    }
   },
   "outputs": [],
   "source": [
    "bank_df = pd.read_csv(r\"https://raw.githubusercontent.com/krishnaik06/Dockers/master/BankNote_Authentication.csv\")"
   ]
  },
  {
   "cell_type": "code",
   "execution_count": 24,
   "id": "2b2b227d",
   "metadata": {
    "ExecuteTime": {
     "end_time": "2022-01-31T04:31:42.867583Z",
     "start_time": "2022-01-31T04:31:42.858313Z"
    }
   },
   "outputs": [],
   "source": [
    "#ProfileReport(bank_df)"
   ]
  },
  {
   "cell_type": "code",
   "execution_count": 25,
   "id": "e5997aad",
   "metadata": {
    "ExecuteTime": {
     "end_time": "2022-01-31T04:31:42.899018Z",
     "start_time": "2022-01-31T04:31:42.874274Z"
    }
   },
   "outputs": [
    {
     "data": {
      "text/plain": [
       "Index(['variance', 'skewness', 'curtosis', 'entropy', 'class'], dtype='object')"
      ]
     },
     "execution_count": 25,
     "metadata": {},
     "output_type": "execute_result"
    }
   ],
   "source": [
    "bank_df.columns"
   ]
  },
  {
   "cell_type": "code",
   "execution_count": 26,
   "id": "582c600d",
   "metadata": {
    "ExecuteTime": {
     "end_time": "2022-01-31T04:31:42.914942Z",
     "start_time": "2022-01-31T04:31:42.903951Z"
    }
   },
   "outputs": [],
   "source": [
    "### Independent and Dependent features\n",
    "X=bank_df.iloc[:,:-1]\n",
    "y=bank_df.loc[:, 'class']"
   ]
  },
  {
   "cell_type": "code",
   "execution_count": 27,
   "id": "d5f37c6b",
   "metadata": {
    "ExecuteTime": {
     "end_time": "2022-01-31T04:31:42.929964Z",
     "start_time": "2022-01-31T04:31:42.919964Z"
    }
   },
   "outputs": [],
   "source": [
    "### Train Test Split\n",
    "X_train,X_test,y_train,y_test=train_test_split(X,y,test_size=0.3,random_state=0)"
   ]
  },
  {
   "cell_type": "code",
   "execution_count": 28,
   "id": "546e57d9",
   "metadata": {
    "ExecuteTime": {
     "end_time": "2022-01-31T04:31:43.445012Z",
     "start_time": "2022-01-31T04:31:42.935000Z"
    }
   },
   "outputs": [
    {
     "data": {
      "text/plain": [
       "RandomForestClassifier()"
      ]
     },
     "execution_count": 28,
     "metadata": {},
     "output_type": "execute_result"
    }
   ],
   "source": [
    "### Implement Random Forest classifier\n",
    "\n",
    "classifier=RandomForestClassifier()\n",
    "classifier.fit(X_train,y_train)"
   ]
  },
  {
   "cell_type": "code",
   "execution_count": 29,
   "id": "af44d1a3",
   "metadata": {
    "ExecuteTime": {
     "end_time": "2022-01-31T04:31:43.508195Z",
     "start_time": "2022-01-31T04:31:43.451007Z"
    }
   },
   "outputs": [],
   "source": [
    "## Prediction\n",
    "y_pred=classifier.predict(X_test)"
   ]
  },
  {
   "cell_type": "code",
   "execution_count": 30,
   "id": "154809fc",
   "metadata": {
    "ExecuteTime": {
     "end_time": "2022-01-31T04:31:43.523432Z",
     "start_time": "2022-01-31T04:31:43.513197Z"
    }
   },
   "outputs": [],
   "source": [
    "### Check Accuracy Compare in a confusion matrix, the test provided y against prediction y\n",
    "from sklearn.metrics import accuracy_score\n",
    "score=accuracy_score(y_test,y_pred)"
   ]
  },
  {
   "cell_type": "markdown",
   "id": "3bcb63ca",
   "metadata": {},
   "source": [
    "### Save the model in a pickle file"
   ]
  },
  {
   "cell_type": "code",
   "execution_count": 31,
   "id": "9393a3df",
   "metadata": {
    "ExecuteTime": {
     "end_time": "2022-01-31T04:31:43.569134Z",
     "start_time": "2022-01-31T04:31:43.526337Z"
    }
   },
   "outputs": [],
   "source": [
    "### Create a Pickle file using serialization \n",
    "\n",
    "pickle_out = open(\"classifier.pkl\",\"wb\")\n",
    "pickle.dump(classifier, pickle_out)\n",
    "pickle_out.close()"
   ]
  },
  {
   "cell_type": "code",
   "execution_count": 32,
   "id": "f681cf79",
   "metadata": {
    "ExecuteTime": {
     "end_time": "2022-01-31T04:31:43.755464Z",
     "start_time": "2022-01-31T04:31:43.705140Z"
    }
   },
   "outputs": [
    {
     "data": {
      "text/plain": [
       "array([0], dtype=int64)"
      ]
     },
     "execution_count": 32,
     "metadata": {},
     "output_type": "execute_result"
    }
   ],
   "source": [
    "classifier.predict([[2,3,4,1]])"
   ]
  },
  {
   "cell_type": "code",
   "execution_count": null,
   "id": "fa718d4c",
   "metadata": {},
   "outputs": [],
   "source": []
  },
  {
   "cell_type": "code",
   "execution_count": null,
   "id": "0d5f92d5",
   "metadata": {},
   "outputs": [],
   "source": []
  }
 ],
 "metadata": {
  "kernelspec": {
   "display_name": "Python [conda env:py_venv] *",
   "language": "python",
   "name": "conda-env-py_venv-py"
  },
  "language_info": {
   "codemirror_mode": {
    "name": "ipython",
    "version": 3
   },
   "file_extension": ".py",
   "mimetype": "text/x-python",
   "name": "python",
   "nbconvert_exporter": "python",
   "pygments_lexer": "ipython3",
   "version": "3.8.8"
  }
 },
 "nbformat": 4,
 "nbformat_minor": 5
}
